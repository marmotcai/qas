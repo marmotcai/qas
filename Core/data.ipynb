{
 "nbformat": 4,
 "nbformat_minor": 2,
 "metadata": {
  "language_info": {
   "name": "python",
   "codemirror_mode": {
    "name": "ipython",
    "version": 3
   },
   "version": "3.7.6-final"
  },
  "orig_nbformat": 2,
  "file_extension": ".py",
  "mimetype": "text/x-python",
  "name": "python",
  "npconvert_exporter": "python",
  "pygments_lexer": "ipython3",
  "version": 3,
  "kernelspec": {
   "name": "python37664bitqascondaaa84361cb93b4ef082d52ef8c2f05dee",
   "display_name": "Python 3.7.6 64-bit ('qas': conda)"
  }
 },
 "cells": [
  {
   "cell_type": "code",
   "execution_count": 31,
   "metadata": {},
   "outputs": [],
   "source": [
    "import numpy as np\n",
    "import pandas as pd\n",
    "from pandas import Series,DataFrame"
   ]
  },
  {
   "cell_type": "code",
   "execution_count": 80,
   "metadata": {},
   "outputs": [
    {
     "output_type": "stream",
     "name": "stdout",
     "text": "\n read  ../data/stk/000001.csv\n\n read  ../data/stk/000002.csv\n\n read  ../data/stk/000009.csv\n\n read  ../data/stk/000024.csv\n\n read  ../data/stk/000027.csv\n\n read  ../data/stk/000039.csv\n\n read  ../data/stk/000046.csv\n\n read  ../data/stk/000060.csv\n\n read  ../data/stk/000061.csv\n\n read  ../data/stk/000063.csv\n\n read  ../data/stk/000069.csv\n\n read  ../data/stk/000100.csv\n\n read  ../data/stk/000156.csv\n\n read  ../data/stk/000157.csv\n\n read  ../data/stk/000166.csv\n\n read  ../data/stk/000333.csv\n\n read  ../data/stk/000338.csv\n\n read  ../data/stk/000400.csv\n\n read  ../data/stk/000402.csv\n\n read  ../data/stk/000413.csv\n\n read  ../data/stk/000423.csv\n\n read  ../data/stk/000425.csv\n\n read  ../data/stk/000503.csv\n\n read  ../data/stk/000538.csv\n\n read  ../data/stk/000539.csv\n\n read  ../data/stk/000559.csv\n\n read  ../data/stk/000568.csv\n\n read  ../data/stk/000581.csv\n\n read  ../data/stk/000598.csv\n\n read  ../data/stk/000623.csv\n         date  000001  000002  000009  000024  000027  000039  000046  000060  \\\n0  2020-03-13   14.52   29.45    6.88   40.50    5.43    7.98    4.31    3.80   \n1  2020-03-12   14.68   29.95    6.98   39.50    5.47    8.13    4.35    3.78   \n2  2020-03-11   14.69   30.38    7.36   38.51    5.56    8.36    4.40    3.85   \n3  2020-03-10   14.76   30.80    7.70   36.14    5.59    8.32    4.51    3.84   \n4  2020-03-09   14.45   30.55    7.62   35.94    5.54    8.21    4.41    3.77   \n5  2020-03-06   15.03   31.13    8.01   36.55    5.66    8.41    4.61    3.92   \n6  2020-03-05   15.39   32.30    7.86   34.78    5.74    8.48    4.77    3.97   \n7  2020-03-04   14.69   32.26    7.76   35.73    5.65    8.29    4.59    3.88   \n8  2020-03-03   14.72   31.10    7.77   35.02    5.63    8.24    4.47    3.84   \n9  2020-03-02   14.79   31.13    7.71   35.60    5.59    8.22    4.52    3.84   \n\n   000061  ...  000423  000425  000503  000538  000539  000559  000568  \\\n0    6.11  ...   29.28    5.12   14.25   74.79    3.65    5.47   78.92   \n1    6.18  ...   30.05    5.19   14.72   77.16    3.63    5.59   80.25   \n2    6.46  ...   30.47    5.27   15.27   78.95    3.69    5.68   81.51   \n3    6.62  ...   30.91    5.45   15.29   79.41    3.72    5.73   81.22   \n4    6.54  ...   30.75    5.37   15.10   79.16    3.69    5.63   77.80   \n5    6.82  ...   31.54    5.63   16.00   81.20    3.79    5.93   81.38   \n6    7.13  ...   31.81    5.80   16.06   82.00    3.82    5.97   83.40   \n7    7.20  ...   31.18    5.80   15.93   80.41    3.74    5.83   78.88   \n8    7.26  ...   31.10    5.65   16.34   79.83    3.71    5.89   79.00   \n9    6.87  ...   31.18    5.71   14.85   80.20    3.68    5.85   77.82   \n\n   000581  000598  000623  \n0   19.81    4.74   16.01  \n1   19.91    4.62   16.30  \n2   20.23    4.59   16.70  \n3   20.21    4.58   17.05  \n4   19.88    4.55   16.65  \n5   20.54    4.67   17.27  \n6   20.96    4.77   17.59  \n7   20.93    4.76   17.19  \n8   20.72    4.67   16.93  \n9   20.67    4.68   16.97  \n\n[10 rows x 31 columns]\n"
    }
   ],
   "source": [
    "ds = pd.DataFrame()\n",
    "df = pd.read_csv(\"../data/stk_code.csv\", encoding = 'gbk')\n",
    "n = 30\n",
    "for i in range(n):\n",
    "    code = \"%06d\" %df.iloc[i]['code']\n",
    "\n",
    "    csvfile = '../data/' + 'stk/' + code + \".csv\"\n",
    "    print(\"\\n read \", csvfile)\n",
    "\n",
    "    dfs = pd.read_csv(csvfile, index_col = False, encoding = 'gbk')\n",
    "    dfs.set_index('date')\n",
    "    # print(dfs.head(5))\n",
    "                \n",
    "    dfs = dfs.drop(['open', 'high', 'low', 'volume'], axis = 1)\n",
    "    dfs = dfs.sort_values(['date'], ascending = False)\n",
    "    dfs = dfs.rename(columns={'close':code})\n",
    "\n",
    "    if ds.empty:\n",
    "        ds = dfs\n",
    "    else:\n",
    "        # ds = ds.join(dfs)\n",
    "        # ds = dfappend(ds, dfs, 'date')\n",
    "        ds = pd.merge(ds, dfs, on='date', left_index=True, right_index=True)\n",
    "\n",
    "print(ds.head(10))"
   ]
  },
  {
   "cell_type": "code",
   "execution_count": 81,
   "metadata": {},
   "outputs": [],
   "source": [
    "# import tushare as ts\n",
    "\n",
    "# cons = ts.get_apis()"
   ]
  },
  {
   "cell_type": "code",
   "execution_count": 82,
   "metadata": {},
   "outputs": [],
   "source": [
    "# df = ts.get_industry_classified()\n",
    "# df"
   ]
  },
  {
   "cell_type": "code",
   "execution_count": 83,
   "metadata": {},
   "outputs": [],
   "source": [
    "# df = ts.get_stock_basics()\n",
    "# df.head(5)"
   ]
  }
 ]
}