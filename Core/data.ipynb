{
 "nbformat": 4,
 "nbformat_minor": 2,
 "metadata": {
  "language_info": {
   "name": "python",
   "codemirror_mode": {
    "name": "ipython",
    "version": 3
   },
   "version": "3.7.6-final"
  },
  "orig_nbformat": 2,
  "file_extension": ".py",
  "mimetype": "text/x-python",
  "name": "python",
  "npconvert_exporter": "python",
  "pygments_lexer": "ipython3",
  "version": 3,
  "kernelspec": {
   "name": "python37664bitqascondaaa84361cb93b4ef082d52ef8c2f05dee",
   "display_name": "Python 3.7.6 64-bit ('qas': conda)"
  }
 },
 "cells": [
  {
   "cell_type": "code",
   "execution_count": 5,
   "metadata": {},
   "outputs": [],
   "source": [
    "import tushare as ts\n",
    "\n",
    "cons = ts.get_apis()"
   ]
  },
  {
   "cell_type": "code",
   "execution_count": 6,
   "metadata": {},
   "outputs": [
    {
     "data": {
      "text/html": "<div>\n<style scoped>\n    .dataframe tbody tr th:only-of-type {\n        vertical-align: middle;\n    }\n\n    .dataframe tbody tr th {\n        vertical-align: top;\n    }\n\n    .dataframe thead th {\n        text-align: right;\n    }\n</style>\n<table border=\"1\" class=\"dataframe\">\n  <thead>\n    <tr style=\"text-align: right;\">\n      <th></th>\n      <th>name</th>\n      <th>industry</th>\n      <th>area</th>\n      <th>pe</th>\n      <th>outstanding</th>\n      <th>totals</th>\n      <th>totalAssets</th>\n      <th>liquidAssets</th>\n      <th>fixedAssets</th>\n      <th>reserved</th>\n      <th>...</th>\n      <th>bvps</th>\n      <th>pb</th>\n      <th>timeToMarket</th>\n      <th>undp</th>\n      <th>perundp</th>\n      <th>rev</th>\n      <th>profit</th>\n      <th>gpr</th>\n      <th>npr</th>\n      <th>holders</th>\n    </tr>\n    <tr>\n      <th>code</th>\n      <th></th>\n      <th></th>\n      <th></th>\n      <th></th>\n      <th></th>\n      <th></th>\n      <th></th>\n      <th></th>\n      <th></th>\n      <th></th>\n      <th></th>\n      <th></th>\n      <th></th>\n      <th></th>\n      <th></th>\n      <th></th>\n      <th></th>\n      <th></th>\n      <th></th>\n      <th></th>\n      <th></th>\n    </tr>\n  </thead>\n  <tbody>\n    <tr>\n      <th>300821</th>\n      <td>N东岳</td>\n      <td>化工原料</td>\n      <td>山东</td>\n      <td>21.55</td>\n      <td>3.00</td>\n      <td>12.00</td>\n      <td>24.98</td>\n      <td>14.79</td>\n      <td>6.40</td>\n      <td>4.21</td>\n      <td>...</td>\n      <td>3.41</td>\n      <td>2.91</td>\n      <td>20200312</td>\n      <td>6.65</td>\n      <td>0.55</td>\n      <td>-19.63</td>\n      <td>-16.59</td>\n      <td>27.69</td>\n      <td>20.25</td>\n      <td>546597.0</td>\n    </tr>\n    <tr>\n      <th>300819</th>\n      <td>N聚杰</td>\n      <td>化纤</td>\n      <td>江苏</td>\n      <td>36.37</td>\n      <td>0.25</td>\n      <td>0.99</td>\n      <td>6.01</td>\n      <td>2.73</td>\n      <td>2.83</td>\n      <td>1.96</td>\n      <td>...</td>\n      <td>7.77</td>\n      <td>2.79</td>\n      <td>20200312</td>\n      <td>1.66</td>\n      <td>1.67</td>\n      <td>0.00</td>\n      <td>0.00</td>\n      <td>26.30</td>\n      <td>11.18</td>\n      <td>50068.0</td>\n    </tr>\n    <tr>\n      <th>300247</th>\n      <td>融捷健康</td>\n      <td>医疗保健</td>\n      <td>安徽</td>\n      <td>0.00</td>\n      <td>6.59</td>\n      <td>8.04</td>\n      <td>18.41</td>\n      <td>7.50</td>\n      <td>2.50</td>\n      <td>13.45</td>\n      <td>...</td>\n      <td>1.96</td>\n      <td>1.94</td>\n      <td>20110729</td>\n      <td>-6.10</td>\n      <td>-0.76</td>\n      <td>-26.64</td>\n      <td>-133.09</td>\n      <td>19.50</td>\n      <td>-2.84</td>\n      <td>45070.0</td>\n    </tr>\n    <tr>\n      <th>000927</th>\n      <td>一汽夏利</td>\n      <td>汽车整车</td>\n      <td>天津</td>\n      <td>0.00</td>\n      <td>15.95</td>\n      <td>15.95</td>\n      <td>28.04</td>\n      <td>11.90</td>\n      <td>11.77</td>\n      <td>13.40</td>\n      <td>...</td>\n      <td>-0.38</td>\n      <td>-12.01</td>\n      <td>19990727</td>\n      <td>-40.92</td>\n      <td>-2.57</td>\n      <td>-62.52</td>\n      <td>30.15</td>\n      <td>-61.21</td>\n      <td>-198.31</td>\n      <td>63925.0</td>\n    </tr>\n    <tr>\n      <th>300367</th>\n      <td>东方网力</td>\n      <td>IT设备</td>\n      <td>北京</td>\n      <td>0.00</td>\n      <td>8.39</td>\n      <td>11.96</td>\n      <td>69.80</td>\n      <td>46.37</td>\n      <td>3.00</td>\n      <td>12.74</td>\n      <td>...</td>\n      <td>3.10</td>\n      <td>1.51</td>\n      <td>20140129</td>\n      <td>10.88</td>\n      <td>0.91</td>\n      <td>-52.55</td>\n      <td>-239.09</td>\n      <td>61.71</td>\n      <td>-41.24</td>\n      <td>56437.0</td>\n    </tr>\n  </tbody>\n</table>\n<p>5 rows × 22 columns</p>\n</div>",
      "text/plain": "        name industry area     pe  outstanding  totals  totalAssets  \\\ncode                                                                  \n300821   N东岳     化工原料   山东  21.55         3.00   12.00        24.98   \n300819   N聚杰       化纤   江苏  36.37         0.25    0.99         6.01   \n300247  融捷健康     医疗保健   安徽   0.00         6.59    8.04        18.41   \n000927  一汽夏利     汽车整车   天津   0.00        15.95   15.95        28.04   \n300367  东方网力     IT设备   北京   0.00         8.39   11.96        69.80   \n\n        liquidAssets  fixedAssets  reserved  ...  bvps     pb  timeToMarket  \\\ncode                                         ...                              \n300821         14.79         6.40      4.21  ...  3.41   2.91      20200312   \n300819          2.73         2.83      1.96  ...  7.77   2.79      20200312   \n300247          7.50         2.50     13.45  ...  1.96   1.94      20110729   \n000927         11.90        11.77     13.40  ... -0.38 -12.01      19990727   \n300367         46.37         3.00     12.74  ...  3.10   1.51      20140129   \n\n         undp  perundp    rev  profit    gpr     npr   holders  \ncode                                                            \n300821   6.65     0.55 -19.63  -16.59  27.69   20.25  546597.0  \n300819   1.66     1.67   0.00    0.00  26.30   11.18   50068.0  \n300247  -6.10    -0.76 -26.64 -133.09  19.50   -2.84   45070.0  \n000927 -40.92    -2.57 -62.52   30.15 -61.21 -198.31   63925.0  \n300367  10.88     0.91 -52.55 -239.09  61.71  -41.24   56437.0  \n\n[5 rows x 22 columns]"
     },
     "execution_count": 6,
     "metadata": {},
     "output_type": "execute_result"
    }
   ],
   "source": [
    "df = ts.get_stock_basics()\n",
    "df.head(5)"
   ]
  }
 ]
}